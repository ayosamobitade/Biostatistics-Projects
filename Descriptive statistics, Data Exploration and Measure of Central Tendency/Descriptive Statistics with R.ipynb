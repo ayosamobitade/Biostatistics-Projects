{
 "cells": [
  {
   "cell_type": "markdown",
   "metadata": {},
   "source": [
    "## HouseKeeping"
   ]
  },
  {
   "cell_type": "code",
   "execution_count": 3,
   "metadata": {},
   "outputs": [
    {
     "data": {
      "text/html": [
       "'Thu Jul 07 21:30:34 2022'"
      ],
      "text/latex": [
       "'Thu Jul 07 21:30:34 2022'"
      ],
      "text/markdown": [
       "'Thu Jul 07 21:30:34 2022'"
      ],
      "text/plain": [
       "[1] \"Thu Jul 07 21:30:34 2022\""
      ]
     },
     "metadata": {},
     "output_type": "display_data"
    }
   ],
   "source": [
    "date()"
   ]
  },
  {
   "cell_type": "code",
   "execution_count": 4,
   "metadata": {},
   "outputs": [
    {
     "data": {
      "text/plain": [
       "[1] \"2022-07-07 21:30:46 WAT\""
      ]
     },
     "metadata": {},
     "output_type": "display_data"
    }
   ],
   "source": [
    "Sys.time()"
   ]
  },
  {
   "cell_type": "code",
   "execution_count": 5,
   "metadata": {},
   "outputs": [
    {
     "data": {
      "text/html": [
       "'R version 3.6.1 (2019-07-05)'"
      ],
      "text/latex": [
       "'R version 3.6.1 (2019-07-05)'"
      ],
      "text/markdown": [
       "'R version 3.6.1 (2019-07-05)'"
      ],
      "text/plain": [
       "[1] \"R version 3.6.1 (2019-07-05)\""
      ]
     },
     "metadata": {},
     "output_type": "display_data"
    }
   ],
   "source": [
    "R.version.string"
   ]
  },
  {
   "cell_type": "code",
   "execution_count": 6,
   "metadata": {},
   "outputs": [
    {
     "data": {
      "text/html": [],
      "text/latex": [],
      "text/markdown": [],
      "text/plain": [
       "character(0)"
      ]
     },
     "metadata": {},
     "output_type": "display_data"
    }
   ],
   "source": [
    "ls()"
   ]
  },
  {
   "cell_type": "code",
   "execution_count": 8,
   "metadata": {},
   "outputs": [
    {
     "data": {
      "text/html": [
       "'C:/Users/HP/Projects/Biostatistics Projects/Descriptive statistics, Data Exploration and Measure of Central Tendency'"
      ],
      "text/latex": [
       "'C:/Users/HP/Projects/Biostatistics Projects/Descriptive statistics, Data Exploration and Measure of Central Tendency'"
      ],
      "text/markdown": [
       "'C:/Users/HP/Projects/Biostatistics Projects/Descriptive statistics, Data Exploration and Measure of Central Tendency'"
      ],
      "text/plain": [
       "[1] \"C:/Users/HP/Projects/Biostatistics Projects/Descriptive statistics, Data Exploration and Measure of Central Tendency\""
      ]
     },
     "metadata": {},
     "output_type": "display_data"
    }
   ],
   "source": [
    "# get the working directory\n",
    "getwd()"
   ]
  },
  {
   "cell_type": "code",
   "execution_count": 9,
   "metadata": {},
   "outputs": [
    {
     "data": {
      "text/plain": [
       "R version 3.6.1 (2019-07-05)\n",
       "Platform: x86_64-w64-mingw32/x64 (64-bit)\n",
       "Running under: Windows 10 x64 (build 18362)\n",
       "\n",
       "Matrix products: default\n",
       "\n",
       "locale:\n",
       "[1] LC_COLLATE=English_United Kingdom.1252 \n",
       "[2] LC_CTYPE=English_United Kingdom.1252   \n",
       "[3] LC_MONETARY=English_United Kingdom.1252\n",
       "[4] LC_NUMERIC=C                           \n",
       "[5] LC_TIME=English_United Kingdom.1252    \n",
       "\n",
       "attached base packages:\n",
       "[1] stats     graphics  grDevices utils     datasets  methods   base     \n",
       "\n",
       "loaded via a namespace (and not attached):\n",
       " [1] compiler_3.6.1  IRdisplay_0.7.0 pbdZMQ_0.3-3    tools_3.6.1    \n",
       " [5] htmltools_0.3.6 base64enc_0.1-3 crayon_1.3.4    Rcpp_1.0.1     \n",
       " [9] uuid_0.1-2      IRkernel_0.8.15 jsonlite_1.6    digest_0.6.18  \n",
       "[13] repr_0.19.2     evaluate_0.13  "
      ]
     },
     "metadata": {},
     "output_type": "display_data"
    }
   ],
   "source": [
    "sessionInfo()"
   ]
  },
  {
   "cell_type": "markdown",
   "metadata": {},
   "source": [
    "## Reading the dataset\n"
   ]
  },
  {
   "cell_type": "code",
   "execution_count": 12,
   "metadata": {},
   "outputs": [
    {
     "data": {
      "text/html": [
       "<table>\n",
       "<thead><tr><th scope=col>StudentID</th><th scope=col>Course</th><th scope=col>Section</th><th scope=col>Lbs</th><th scope=col>Gender</th></tr></thead>\n",
       "<tbody>\n",
       "\t<tr><td>N5323       </td><td>CPIII0201320</td><td>AM          </td><td>123         </td><td>Female      </td></tr>\n",
       "\t<tr><td>N5023       </td><td>CPIII0201320</td><td>AM          </td><td>120         </td><td>Female      </td></tr>\n",
       "\t<tr><td>N6658       </td><td>CPIII0201320</td><td>AM          </td><td>137         </td><td>Female      </td></tr>\n",
       "\t<tr><td>N5687       </td><td>CPIII0201320</td><td>AM          </td><td>127         </td><td>Female      </td></tr>\n",
       "</tbody>\n",
       "</table>\n"
      ],
      "text/latex": [
       "\\begin{tabular}{r|lllll}\n",
       " StudentID & Course & Section & Lbs & Gender\\\\\n",
       "\\hline\n",
       "\t N5323        & CPIII0201320 & AM           & 123          & Female      \\\\\n",
       "\t N5023        & CPIII0201320 & AM           & 120          & Female      \\\\\n",
       "\t N6658        & CPIII0201320 & AM           & 137          & Female      \\\\\n",
       "\t N5687        & CPIII0201320 & AM           & 127          & Female      \\\\\n",
       "\\end{tabular}\n"
      ],
      "text/markdown": [
       "\n",
       "| StudentID | Course | Section | Lbs | Gender |\n",
       "|---|---|---|---|---|\n",
       "| N5323        | CPIII0201320 | AM           | 123          | Female       |\n",
       "| N5023        | CPIII0201320 | AM           | 120          | Female       |\n",
       "| N6658        | CPIII0201320 | AM           | 137          | Female       |\n",
       "| N5687        | CPIII0201320 | AM           | 127          | Female       |\n",
       "\n"
      ],
      "text/plain": [
       "  StudentID Course       Section Lbs Gender\n",
       "1 N5323     CPIII0201320 AM      123 Female\n",
       "2 N5023     CPIII0201320 AM      120 Female\n",
       "3 N6658     CPIII0201320 AM      137 Female\n",
       "4 N5687     CPIII0201320 AM      127 Female"
      ]
     },
     "metadata": {},
     "output_type": "display_data"
    }
   ],
   "source": [
    "\n",
    "dataset <- read.table(file = \"CPIIISectionLbsGender.csv\", header = TRUE, sep=\",\")\n",
    "head(dataset,4)"
   ]
  },
  {
   "cell_type": "code",
   "execution_count": 14,
   "metadata": {},
   "outputs": [
    {
     "data": {
      "text/html": [
       "'dataset'"
      ],
      "text/latex": [
       "'dataset'"
      ],
      "text/markdown": [
       "'dataset'"
      ],
      "text/plain": [
       "[1] \"dataset\""
      ]
     },
     "metadata": {},
     "output_type": "display_data"
    }
   ],
   "source": [
    "ls()"
   ]
  },
  {
   "cell_type": "code",
   "execution_count": 15,
   "metadata": {},
   "outputs": [],
   "source": [
    "attach(dataset)"
   ]
  },
  {
   "cell_type": "code",
   "execution_count": 17,
   "metadata": {},
   "outputs": [
    {
     "name": "stdout",
     "output_type": "stream",
     "text": [
      "'data.frame':\t61 obs. of  5 variables:\n",
      " $ StudentID: Factor w/ 61 levels \"N2224\",\"N3374\",..: 35 24 58 40 48 36 15 14 12 10 ...\n",
      " $ Course   : Factor w/ 1 level \"CPIII0201320\": 1 1 1 1 1 1 1 1 1 1 ...\n",
      " $ Section  : Factor w/ 2 levels \"AM\",\"PM\": 1 1 1 1 1 1 1 1 1 1 ...\n",
      " $ Lbs      : int  123 120 137 127 129 124 114 114 112 110 ...\n",
      " $ Gender   : Factor w/ 2 levels \"Female\",\"Male\": 1 1 1 1 1 1 1 1 1 1 ...\n"
     ]
    }
   ],
   "source": [
    "# checking the structure of the dataset\n",
    "\n",
    "str(dataset)"
   ]
  },
  {
   "cell_type": "code",
   "execution_count": 19,
   "metadata": {},
   "outputs": [
    {
     "data": {
      "text/html": [
       "61"
      ],
      "text/latex": [
       "61"
      ],
      "text/markdown": [
       "61"
      ],
      "text/plain": [
       "[1] 61"
      ]
     },
     "metadata": {},
     "output_type": "display_data"
    }
   ],
   "source": [
    "# checking the number of rows\n",
    "nrow(dataset)"
   ]
  },
  {
   "cell_type": "code",
   "execution_count": 20,
   "metadata": {},
   "outputs": [
    {
     "data": {
      "text/html": [
       "5"
      ],
      "text/latex": [
       "5"
      ],
      "text/markdown": [
       "5"
      ],
      "text/plain": [
       "[1] 5"
      ]
     },
     "metadata": {},
     "output_type": "display_data"
    }
   ],
   "source": [
    "# checking the number of columns\n",
    "ncol(dataset)"
   ]
  },
  {
   "cell_type": "code",
   "execution_count": 21,
   "metadata": {},
   "outputs": [
    {
     "data": {
      "text/html": [
       "<ol class=list-inline>\n",
       "\t<li>61</li>\n",
       "\t<li>5</li>\n",
       "</ol>\n"
      ],
      "text/latex": [
       "\\begin{enumerate*}\n",
       "\\item 61\n",
       "\\item 5\n",
       "\\end{enumerate*}\n"
      ],
      "text/markdown": [
       "1. 61\n",
       "2. 5\n",
       "\n",
       "\n"
      ],
      "text/plain": [
       "[1] 61  5"
      ]
     },
     "metadata": {},
     "output_type": "display_data"
    }
   ],
   "source": [
    "# checking the dimension of the dataset\n",
    "\n",
    "dim(dataset)"
   ]
  },
  {
   "cell_type": "code",
   "execution_count": 22,
   "metadata": {},
   "outputs": [
    {
     "data": {
      "text/html": [
       "<ol class=list-inline>\n",
       "\t<li>'StudentID'</li>\n",
       "\t<li>'Course'</li>\n",
       "\t<li>'Section'</li>\n",
       "\t<li>'Lbs'</li>\n",
       "\t<li>'Gender'</li>\n",
       "</ol>\n"
      ],
      "text/latex": [
       "\\begin{enumerate*}\n",
       "\\item 'StudentID'\n",
       "\\item 'Course'\n",
       "\\item 'Section'\n",
       "\\item 'Lbs'\n",
       "\\item 'Gender'\n",
       "\\end{enumerate*}\n"
      ],
      "text/markdown": [
       "1. 'StudentID'\n",
       "2. 'Course'\n",
       "3. 'Section'\n",
       "4. 'Lbs'\n",
       "5. 'Gender'\n",
       "\n",
       "\n"
      ],
      "text/plain": [
       "[1] \"StudentID\" \"Course\"    \"Section\"   \"Lbs\"       \"Gender\"   "
      ]
     },
     "metadata": {},
     "output_type": "display_data"
    }
   ],
   "source": [
    "# checking the names of the columns\n",
    "\n",
    "names(dataset)"
   ]
  },
  {
   "cell_type": "code",
   "execution_count": null,
   "metadata": {},
   "outputs": [],
   "source": []
  }
 ],
 "metadata": {
  "kernelspec": {
   "display_name": "R",
   "language": "R",
   "name": "ir"
  },
  "language_info": {
   "codemirror_mode": "r",
   "file_extension": ".r",
   "mimetype": "text/x-r-source",
   "name": "R",
   "pygments_lexer": "r",
   "version": "3.6.1"
  }
 },
 "nbformat": 4,
 "nbformat_minor": 4
}
